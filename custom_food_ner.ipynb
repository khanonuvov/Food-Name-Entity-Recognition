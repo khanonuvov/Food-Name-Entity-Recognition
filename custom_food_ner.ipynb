{
 "cells": [
  {
   "cell_type": "markdown",
   "id": "b180c989",
   "metadata": {},
   "source": [
    "# Food Name Entity Recognition"
   ]
  },
  {
   "cell_type": "code",
   "execution_count": 1,
   "id": "416273e9",
   "metadata": {},
   "outputs": [],
   "source": [
    "#Import needed libraries \n",
    "import json\n",
    "import spacy\n",
    "from spacy import displacy\n",
    "import random\n",
    "from spacy.util import minibatch, compounding\n",
    "from spacy.training import Example "
   ]
  },
  {
   "cell_type": "markdown",
   "id": "2e0ee2e2",
   "metadata": {},
   "source": [
    "### Load Model"
   ]
  },
  {
   "cell_type": "code",
   "execution_count": 2,
   "id": "4c0f7e18",
   "metadata": {},
   "outputs": [],
   "source": [
    "nlp=spacy.load(\"en_core_web_sm\") #load small pretained model\n",
    "ner=nlp.get_pipe('ner') #Getting the 'ner' componets because we need to train only 'ner' part of model. "
   ]
  },
  {
   "cell_type": "code",
   "execution_count": 3,
   "id": "5ef84e6b",
   "metadata": {},
   "outputs": [
    {
     "data": {
      "text/plain": [
       "['tok2vec', 'tagger', 'parser', 'attribute_ruler', 'lemmatizer', 'ner']"
      ]
     },
     "execution_count": 3,
     "metadata": {},
     "output_type": "execute_result"
    }
   ],
   "source": [
    "nlp.pipe_names"
   ]
  },
  {
   "cell_type": "markdown",
   "id": "a7a15c2b",
   "metadata": {},
   "source": [
    "### Data Preprocessing"
   ]
  },
  {
   "cell_type": "code",
   "execution_count": 4,
   "id": "1b096856",
   "metadata": {},
   "outputs": [],
   "source": [
    "with open('./dataset/custom_food_ner_data.json') as f: #Load json format dataset\n",
    "    TRAIN_DATA = json.load(f)"
   ]
  },
  {
   "cell_type": "code",
   "execution_count": 5,
   "id": "edbea936",
   "metadata": {},
   "outputs": [
    {
     "data": {
      "text/plain": [
       "[['Revani is a dessert that emerged with the cuisine of the Ottoman Empires.\\r',\n",
       "  {'entities': [[0, 6, 'FOOD']]}],\n",
       " ['Hummus is probably one of the best-known Middle Eastern foods.\\r',\n",
       "  {'entities': [[0, 6, 'FOOD']]}],\n",
       " ['Falafel is a dish originating from the Levant.\\r',\n",
       "  {'entities': [[0, 7, 'FOOD']]}],\n",
       " ['Baba ghannouj is a popular appetizer made from eggplant and tahini.\\r',\n",
       "  {'entities': [[0, 13, 'FOOD']]}],\n",
       " ['Knafeh is a buttery, crunchy dessert.\\r',\n",
       "  {'entities': [[0, 6, 'FOOD'], [21, 36, 'FOOD']]}],\n",
       " ['Red Wine is for gentleman.\\r', {'entities': [[0, 8, 'FOOD']]}],\n",
       " ['Girls love strawberries.\\r', {'entities': [[11, 23, 'FOOD']]}],\n",
       " ['Pumpkin pie is a common dish for thanks giving dinner.\\r',\n",
       "  {'entities': [[0, 11, 'FOOD']]}],\n",
       " [\"Don't wanna celebrate Christmas without turkey.\\r\",\n",
       "  {'entities': [[40, 46, 'FOOD']]}],\n",
       " ['Ice Ice pops are must after dinner.\\r', {'entities': [[0, 12, 'FOOD']]}],\n",
       " ['Lacchi is an Asian radiational food.\\r', {'entities': [[0, 6, 'FOOD']]}],\n",
       " ['Peas are good for children.\\r', {'entities': [[0, 4, 'FOOD']]}],\n",
       " ['Coconut is a great source for reducing dehydration.\\r',\n",
       "  {'entities': [[0, 7, 'FOOD']]}],\n",
       " [\"There's no cinema night without pop corn.\\r\",\n",
       "  {'entities': [[32, 40, 'FOOD']]}],\n",
       " ['Kababs were born on middle east.\\r', {'entities': [[0, 6, 'FOOD']]}],\n",
       " ['Ilish is the heart Bengali food culture.\\r',\n",
       "  {'entities': [[0, 5, 'FOOD']]}],\n",
       " ['Belgian chocolate is the best in the world.\\r',\n",
       "  {'entities': [[0, 17, 'FOOD']]}],\n",
       " ['Asparagus is great source of vitamins A, C and K.\\r',\n",
       "  {'entities': [[0, 9, 'FOOD']]}],\n",
       " ['Mashed potatoes completes a dinner with steak.\\r',\n",
       "  {'entities': [[0, 15, 'FOOD'], [40, 45, 'FOOD']]}],\n",
       " [\"There's no birthday without cake.\\r\", {'entities': [[28, 32, 'FOOD']]}],\n",
       " [\"Who doesn't love milkshake?\\r\", {'entities': [[17, 26, 'FOOD']]}],\n",
       " ['Cookies and milk are loved by every children.\\r',\n",
       "  {'entities': [[0, 7, 'FOOD'], [12, 16, 'FOOD']]}],\n",
       " ['If you invite me for brunch make sure to have COKE.\\r',\n",
       "  {'entities': [[46, 50, 'FOOD']]}],\n",
       " ['Tortilla chips makes me happy.\\r', {'entities': [[0, 14, 'FOOD']]}],\n",
       " ['Shrimp cocktails are really loved by adults.\\r',\n",
       "  {'entities': [[0, 16, 'FOOD']]}],\n",
       " ['Taco is the food that represent mexico.\\r', {'entities': [[0, 4, 'FOOD']]}],\n",
       " [\"Jalebi is a heavenly gift for sweet tooth's.\\r\",\n",
       "  {'entities': [[0, 6, 'FOOD']]}],\n",
       " [\"My sister's Custard is the best.\\r\", {'entities': [[12, 19, 'FOOD']]}],\n",
       " ['Meat gravy and fried rice are the best items for launch.\\r',\n",
       "  {'entities': [[0, 10, 'FOOD'], [15, 25, 'FOOD']]}],\n",
       " ['Breakfast is unfinished without doughnut and coffee.\\r',\n",
       "  {'entities': [[32, 40, 'FOOD'], [45, 51, 'FOOD']]}],\n",
       " ['My elder brother loves parfait.\\r', {'entities': [[23, 30, 'FOOD']]}],\n",
       " ['Beth opened a lemonade store.\\r', {'entities': [[14, 22, 'FOOD']]}],\n",
       " ['Shawarma is a great evening snack.\\r', {'entities': [[0, 8, 'FOOD']]}],\n",
       " ['Salad is the first choice of an athletic person.\\r',\n",
       "  {'entities': [[0, 5, 'FOOD']]}],\n",
       " ['America is famous for hot dogs.\\r', {'entities': [[22, 30, 'FOOD']]}],\n",
       " [\"You can win anyone's heart with waffles.\\r\",\n",
       "  {'entities': [[32, 39, 'FOOD']]}],\n",
       " ['Pancakes are the easiest dish to serve on breakfast.\\r',\n",
       "  {'entities': [[0, 8, 'FOOD']]}],\n",
       " ['Chicken tikka masala is common amongst Indians.\\r',\n",
       "  {'entities': [[0, 20, 'FOOD']]}],\n",
       " ['Walnuts are useful for increasing sperm rate.\\r',\n",
       "  {'entities': [[0, 7, 'FOOD']]}],\n",
       " ['I can finish a whole jar of peanut butter jelly in a minute.\\r',\n",
       "  {'entities': [[28, 47, 'FOOD']]}],\n",
       " ['Pasta is a widow without cheese.\\r', {'entities': [[0, 5, 'FOOD']]}],\n",
       " [\"Crackers are preferred by people for it's saltiness.\\r\",\n",
       "  {'entities': [[0, 8, 'FOOD']]}],\n",
       " ['There are more than 300 varieties of date grown in Saudi Arabia.\\r',\n",
       "  {'entities': [[37, 41, 'FOOD']]}],\n",
       " ['Fresh baked bread completes corn soup.\\r',\n",
       "  {'entities': [[12, 17, 'FOOD'], [28, 37, 'FOOD']]}],\n",
       " [\"That 'Butter Chicken curry' was spicy as hell.\\r\",\n",
       "  {'entities': [[5, 26, 'FOOD']]}],\n",
       " [\"A great way to make 'Brisket' is to use veal.\\r\",\n",
       "  {'entities': [[20, 28, 'FOOD']]}],\n",
       " ['Coleslaw is a must item with chicken fry.\\r',\n",
       "  {'entities': [[0, 8, 'FOOD'], [29, 40, 'FOOD']]}],\n",
       " ['Mr. roger cooked us lamb chops while camping.\\r',\n",
       "  {'entities': [[20, 24, 'FOOD']]}],\n",
       " ['That has just finished 24 bottles of beer.\\r',\n",
       "  {'entities': [[37, 41, 'FOOD']]}],\n",
       " ['Ashure is a dish that symbolizes abundance and fertility.\\r',\n",
       "  {'entities': [[0, 6, 'FOOD']]}],\n",
       " ['Ham is very testy.\\r', {'entities': [[0, 3, 'FOOD']]}],\n",
       " ['Biscuit are so hard to break.\\r', {'entities': [[0, 7, 'FOOD']]}],\n",
       " ['Hot dog is very yammy.\\r', {'entities': [[0, 7, 'FOOD']]}],\n",
       " ['Molla Biryani is awesome.\\r', {'entities': [[0, 13, 'FOOD']]}],\n",
       " ['I just love to eat Jam with bread.\\r',\n",
       "  {'entities': [[19, 22, 'FOOD'], [28, 33, 'FOOD']]}],\n",
       " ['I donï¿½t like items contains Sour cream.\\r',\n",
       "  {'entities': [[28, 38, 'FOOD']]}],\n",
       " ['I had maiden the Mutton BBQ.\\r', {'entities': [[17, 27, 'FOOD']]}],\n",
       " ['This piece of Steak is very soft.\\r', {'entities': [[14, 19, 'FOOD']]}],\n",
       " ['Veg Salad is a gesture of healthy people.\\r',\n",
       "  {'entities': [[0, 9, 'FOOD']]}],\n",
       " ['Pizza makes me crazy.\\r', {'entities': [[0, 5, 'FOOD']]}],\n",
       " ['I can make Pancake at home.\\r', {'entities': [[11, 18, 'FOOD']]}],\n",
       " ['He made this Fish flesh.\\r', {'entities': [[13, 17, 'FOOD']]}],\n",
       " ['We used to collect very special Butter.\\r',\n",
       "  {'entities': [[32, 38, 'FOOD']]}],\n",
       " ['They have their own Yogurt recipe.\\r', {'entities': [[20, 26, 'FOOD']]}],\n",
       " ['Spaghetti is a very popular item of Hotel Sheraton.\\r',\n",
       "  {'entities': [[0, 9, 'FOOD']]}],\n",
       " ['Chinese Rice are very delicious.\\r', {'entities': [[8, 12, 'FOOD']]}],\n",
       " ['Breakfast without Bread is incomplete.\\r',\n",
       "  {'entities': [[18, 23, 'FOOD']]}],\n",
       " ['Cream is the most favorite one of each people.\\r',\n",
       "  {'entities': [[0, 5, 'FOOD']]}],\n",
       " ['For enough protein drink Milk twice a day.\\r',\n",
       "  {'entities': [[25, 29, 'FOOD']]}],\n",
       " ['There are different types of Sandwiches available here.\\r',\n",
       "  {'entities': [[29, 39, 'FOOD']]}],\n",
       " ['Fried fish is one of the popular dishes for vegetarians.\\r',\n",
       "  {'entities': [[0, 10, 'FOOD']]}],\n",
       " ['Beef may contain allergies.\\r', {'entities': [[0, 4, 'FOOD']]}],\n",
       " ['Pizza is a common fast food.\\r', {'entities': [[0, 5, 'FOOD']]}],\n",
       " ['Pasta is an italian recipe.\\r', {'entities': [[0, 5, 'FOOD']]}],\n",
       " [\"China's noodles are very famous.\\r\", {'entities': [[8, 15, 'FOOD']]}],\n",
       " ['Shrimps are famous in China too.\\r', {'entities': [[0, 7, 'FOOD']]}],\n",
       " ['Lasagna is another classic of Italy.\\r', {'entities': [[0, 7, 'FOOD']]}],\n",
       " ['Sushi is extemely famous and expensive Japanese dish.\\r',\n",
       "  {'entities': [[0, 5, 'FOOD']]}],\n",
       " ['Unagi is a famous seafood of Japan.\\r', {'entities': [[0, 5, 'FOOD']]}],\n",
       " ['Tempura , Soba are other famous dishes of Japan.\\r',\n",
       "  {'entities': [[0, 7, 'FOOD'], [10, 14, 'FOOD']]}],\n",
       " ['Udon is a healthy type of noodles.\\r', {'entities': [[0, 4, 'FOOD']]}],\n",
       " ['Chocolate soufflï¿½ is extremely famous french cuisine.\\r',\n",
       "  {'entities': [[0, 9, 'FOOD']]}],\n",
       " ['Flamiche is french pastry.\\r', {'entities': [[0, 8, 'FOOD']]}],\n",
       " ['Burgers are the most commonly consumed fastfood. \\r',\n",
       "  {'entities': [[0, 7, 'FOOD']]}],\n",
       " ['Burgers are the most commonly consumed fastfood.\\r',\n",
       "  {'entities': [[0, 7, 'FOOD']]}],\n",
       " ['Frenchfries are considered too oily.\\r', {'entities': [[0, 11, 'FOOD']]}],\n",
       " ['It takes so much time to prepare Cottage cheese.\\r',\n",
       "  {'entities': [[41, 47, 'FOOD']]}],\n",
       " ['The texture of Kebab makes me yewy.\\r', {'entities': [[15, 20, 'FOOD']]}],\n",
       " ['You canï¿½t get the American Hamburger in Bangladesh.\\r',\n",
       "  {'entities': [[27, 36, 'FOOD']]}],\n",
       " ['Without Cheese I canï¿½t imagine even a single dish.\\r',\n",
       "  {'entities': [[8, 14, 'FOOD']]}],\n",
       " ['At the seaside areas Tuna steak highly recommended.\\r',\n",
       "  {'entities': [[21, 31, 'FOOD']]}],\n",
       " ['Egg curry is a common dish and available over the world.\\r',\n",
       "  {'entities': [[0, 9, 'FOOD']]}],\n",
       " ['There are none who doesnï¿½t love Ice cream.\\r',\n",
       "  {'entities': [[32, 41, 'FOOD']]}],\n",
       " ['Rice is the main food of south Asian sub-continent.\\r',\n",
       "  {'entities': [[0, 4, 'FOOD']]}],\n",
       " ['Do you know how to Roast chicken?\\r', {'entities': [[19, 32, 'FOOD']]}],\n",
       " ['Chinese Seafood are very dangerous to check out.\\r',\n",
       "  {'entities': [[8, 15, 'FOOD']]}],\n",
       " ['Shrimp brain is so costly but testy to eat.\\r',\n",
       "  {'entities': [[0, 12, 'FOOD']]}],\n",
       " ['You can mix Bacon with vegetables for a dish.\\r',\n",
       "  {'entities': [[12, 17, 'FOOD'], [23, 33, 'FOOD']]}],\n",
       " ['I donï¿½t like to have Porridge.\\r', {'entities': [[21, 29, 'FOOD']]}],\n",
       " ['I am always hungry for Sausage.\\r', {'entities': [[23, 30, 'FOOD']]}],\n",
       " ['Mushroom is a very healthy food, it contains a lot of healthy elements.\\r',\n",
       "  {'entities': [[0, 8, 'FOOD']]}],\n",
       " ['I can cook Steam Chicken very well.\\r', {'entities': [[17, 24, 'FOOD']]}],\n",
       " ['Those items, looking like as rings are ï¿½Nuggetsï¿½.\\r',\n",
       "  {'entities': [[39, 48, 'FOOD']]}],\n",
       " ['I can make Pasta by myself.\\r', {'entities': [[11, 16, 'FOOD']]}],\n",
       " ['I ate my Burger.\\r', {'entities': [[9, 15, 'FOOD']]}],\n",
       " [\"I'm eating a Broccoli.\\r\", {'entities': [[13, 21, 'FOOD']]}],\n",
       " ['I just ate a Asparagu.\\r', {'entities': [[13, 21, 'FOOD']]}],\n",
       " ['I only ate the Bluberrie.\\r', {'entities': [[15, 24, 'FOOD']]}],\n",
       " [\"I'm done eating a Banana.\\r\", {'entities': [[18, 24, 'FOOD']]}],\n",
       " [\"I've already eaten a Lean beef.\\r\", {'entities': [[21, 30, 'FOOD']]}],\n",
       " ['I just finished my Beef meat.\\r', {'entities': [[19, 28, 'FOOD']]}],\n",
       " ['When I was having lunch I ate a Lamb.\\r', {'entities': [[32, 36, 'FOOD']]}],\n",
       " ['I ate a Chinese noodles and a beef noodles for lunch.\\r',\n",
       "  {'entities': [[16, 23, 'FOOD'], [30, 34, 'FOOD'], [35, 42, 'FOOD']]}],\n",
       " ['I made a Sushi and fish-curry for lunch.\\r',\n",
       "  {'entities': [[9, 14, 'FOOD'], [19, 29, 'FOOD']]}],\n",
       " ['I ate fish and veg.\\r', {'entities': [[6, 10, 'FOOD'], [15, 18, 'FOOD']]}],\n",
       " ['today I ate a Carrot and a Cucumber for lunch.\\r',\n",
       "  {'entities': [[14, 20, 'FOOD'], [27, 35, 'FOOD']]}],\n",
       " ['I had choclate party with my husband last night.\\r',\n",
       "  {'entities': [[6, 14, 'FOOD']]}],\n",
       " ['I brought you some cake on my birthday.\\r',\n",
       "  {'entities': [[19, 23, 'FOOD']]}],\n",
       " [\"I made cake for yesterday's dinner.\\r\", {'entities': [[7, 11, 'FOOD']]}],\n",
       " [\"I had apples yesterday and I'd like to eat it anyway.\\r\",\n",
       "  {'entities': [[6, 12, 'FOOD']]}],\n",
       " ['I ate a couple of Shrimp last night.\\r', {'entities': [[18, 24, 'FOOD']]}],\n",
       " ['I had some brown rice at dinner last night.\\r',\n",
       "  {'entities': [[11, 21, 'FOOD']]}],\n",
       " ['Last night, I ordered some Tuna fish.\\r', {'entities': [[27, 36, 'FOOD']]}],\n",
       " ['I made a bread last night.\\r', {'entities': [[9, 14, 'FOOD']]}],\n",
       " ['I had a bowl of curry with vegtables and I wanted to go to the mall today.\\r',\n",
       "  {'entities': [[16, 21, 'FOOD'], [27, 36, 'FOOD']]}],\n",
       " ['I brought a basket of vegtables for breakfast this morning.\\r',\n",
       "  {'entities': [[22, 31, 'FOOD']]}],\n",
       " ['I had a bowl of Yogurt.\\r', {'entities': [[16, 22, 'FOOD']]}],\n",
       " ['I ate a potato with salt in the morning.\\r',\n",
       "  {'entities': [[8, 14, 'FOOD']]}],\n",
       " ['I made a bowl of juice for my breakfast.\\r',\n",
       "  {'entities': [[17, 22, 'FOOD']]}],\n",
       " [\"There's bread for breakfast in the bowl this morning.\\r\",\n",
       "  {'entities': [[8, 13, 'FOOD']]}],\n",
       " ['This morning, I made a bowl of noodles.', {'entities': [[31, 38, 'FOOD']]}]]"
      ]
     },
     "execution_count": 5,
     "metadata": {},
     "output_type": "execute_result"
    }
   ],
   "source": [
    "TRAIN_DATA['annotations'] # Train data"
   ]
  },
  {
   "cell_type": "code",
   "execution_count": 6,
   "id": "f4f7efb8",
   "metadata": {},
   "outputs": [
    {
     "data": {
      "text/plain": [
       "'FOOD'"
      ]
     },
     "execution_count": 6,
     "metadata": {},
     "output_type": "execute_result"
    }
   ],
   "source": [
    "LABEL = TRAIN_DATA['classes'][0] #Custom Label \"FOOD\", We are doing add for food names recognition as a 'FOOD'.\n",
    "LABEL"
   ]
  },
  {
   "cell_type": "code",
   "execution_count": 7,
   "id": "677475c2",
   "metadata": {},
   "outputs": [
    {
     "data": {
      "text/plain": [
       "['CARDINAL',\n",
       " 'DATE',\n",
       " 'EVENT',\n",
       " 'FAC',\n",
       " 'GPE',\n",
       " 'LANGUAGE',\n",
       " 'LAW',\n",
       " 'LOC',\n",
       " 'MONEY',\n",
       " 'NORP',\n",
       " 'ORDINAL',\n",
       " 'ORG',\n",
       " 'PERCENT',\n",
       " 'PERSON',\n",
       " 'PRODUCT',\n",
       " 'QUANTITY',\n",
       " 'TIME',\n",
       " 'WORK_OF_ART']"
      ]
     },
     "execution_count": 7,
     "metadata": {},
     "output_type": "execute_result"
    }
   ],
   "source": [
    "nlp.pipe_labels['ner'] #Before adding label in the 'ner' pipes"
   ]
  },
  {
   "cell_type": "markdown",
   "id": "68adc2f9",
   "metadata": {},
   "source": [
    "### Add Custom Label in the Pretained Model"
   ]
  },
  {
   "cell_type": "code",
   "execution_count": 8,
   "id": "3e73ad92",
   "metadata": {},
   "outputs": [
    {
     "data": {
      "text/plain": [
       "['B-ORG',\n",
       " 'B-DATE',\n",
       " 'B-PERSON',\n",
       " 'B-GPE',\n",
       " 'B-MONEY',\n",
       " 'B-CARDINAL',\n",
       " 'B-NORP',\n",
       " 'B-PERCENT',\n",
       " 'B-WORK_OF_ART',\n",
       " 'B-LOC',\n",
       " 'B-TIME',\n",
       " 'B-QUANTITY',\n",
       " 'B-FAC',\n",
       " 'B-EVENT',\n",
       " 'B-ORDINAL',\n",
       " 'B-PRODUCT',\n",
       " 'B-LAW',\n",
       " 'B-LANGUAGE',\n",
       " 'I-ORG',\n",
       " 'I-DATE',\n",
       " 'I-PERSON',\n",
       " 'I-GPE',\n",
       " 'I-MONEY',\n",
       " 'I-CARDINAL',\n",
       " 'I-NORP',\n",
       " 'I-PERCENT',\n",
       " 'I-WORK_OF_ART',\n",
       " 'I-LOC',\n",
       " 'I-TIME',\n",
       " 'I-QUANTITY',\n",
       " 'I-FAC',\n",
       " 'I-EVENT',\n",
       " 'I-ORDINAL',\n",
       " 'I-PRODUCT',\n",
       " 'I-LAW',\n",
       " 'I-LANGUAGE',\n",
       " 'L-ORG',\n",
       " 'L-DATE',\n",
       " 'L-PERSON',\n",
       " 'L-GPE',\n",
       " 'L-MONEY',\n",
       " 'L-CARDINAL',\n",
       " 'L-NORP',\n",
       " 'L-PERCENT',\n",
       " 'L-WORK_OF_ART',\n",
       " 'L-LOC',\n",
       " 'L-TIME',\n",
       " 'L-QUANTITY',\n",
       " 'L-FAC',\n",
       " 'L-EVENT',\n",
       " 'L-ORDINAL',\n",
       " 'L-PRODUCT',\n",
       " 'L-LAW',\n",
       " 'L-LANGUAGE',\n",
       " 'U-ORG',\n",
       " 'U-DATE',\n",
       " 'U-PERSON',\n",
       " 'U-GPE',\n",
       " 'U-MONEY',\n",
       " 'U-CARDINAL',\n",
       " 'U-NORP',\n",
       " 'U-PERCENT',\n",
       " 'U-WORK_OF_ART',\n",
       " 'U-LOC',\n",
       " 'U-TIME',\n",
       " 'U-QUANTITY',\n",
       " 'U-FAC',\n",
       " 'U-EVENT',\n",
       " 'U-ORDINAL',\n",
       " 'U-PRODUCT',\n",
       " 'U-LAW',\n",
       " 'U-LANGUAGE',\n",
       " 'O',\n",
       " 'B-FOOD',\n",
       " 'I-FOOD',\n",
       " 'L-FOOD',\n",
       " 'U-FOOD']"
      ]
     },
     "execution_count": 8,
     "metadata": {},
     "output_type": "execute_result"
    }
   ],
   "source": [
    "ner.add_label(LABEL) #Add the 'FOOD' label in 'ner' pipe.\n",
    "optimizer = nlp.resume_training() #Resume training \n",
    "move_names = list(ner.move_names)\n",
    "move_names"
   ]
  },
  {
   "cell_type": "code",
   "execution_count": 9,
   "id": "05e84e1c",
   "metadata": {},
   "outputs": [
    {
     "data": {
      "text/plain": [
       "['CARDINAL',\n",
       " 'DATE',\n",
       " 'EVENT',\n",
       " 'FAC',\n",
       " 'FOOD',\n",
       " 'GPE',\n",
       " 'LANGUAGE',\n",
       " 'LAW',\n",
       " 'LOC',\n",
       " 'MONEY',\n",
       " 'NORP',\n",
       " 'ORDINAL',\n",
       " 'ORG',\n",
       " 'PERCENT',\n",
       " 'PERSON',\n",
       " 'PRODUCT',\n",
       " 'QUANTITY',\n",
       " 'TIME',\n",
       " 'WORK_OF_ART']"
      ]
     },
     "execution_count": 9,
     "metadata": {},
     "output_type": "execute_result"
    }
   ],
   "source": [
    "nlp.pipe_labels['ner'] #After adding label in the 'ner' pipes"
   ]
  },
  {
   "cell_type": "code",
   "execution_count": 10,
   "id": "a484e9db",
   "metadata": {},
   "outputs": [
    {
     "data": {
      "text/plain": [
       "['tok2vec', 'tagger', 'parser', 'attribute_ruler', 'lemmatizer']"
      ]
     },
     "execution_count": 10,
     "metadata": {},
     "output_type": "execute_result"
    }
   ],
   "source": [
    "pipe_exceptions = [\"ner\", \"trf_wordpiecer\", \"trf_tok2vec\"] #This Pipes we'll train.\n",
    "other_pipes = [] #Pipes don't need to affceted when training. We'll disabled the pipes of list.\n",
    "\n",
    "for pipe in nlp.pipe_names:\n",
    "    if pipe not in pipe_exceptions:\n",
    "        other_pipes.append(pipe)\n",
    "other_pipes"
   ]
  },
  {
   "cell_type": "markdown",
   "id": "1bf117db",
   "metadata": {},
   "source": [
    "### Training"
   ]
  },
  {
   "cell_type": "code",
   "execution_count": 11,
   "id": "bddb92b3",
   "metadata": {},
   "outputs": [
    {
     "name": "stderr",
     "output_type": "stream",
     "text": [
      "\" with entities \"[[21, 29, 'FOOD']]\". Use `spacy.training.offsets_to_biluo_tags(nlp.make_doc(text), entities)` to check the alignment. Misaligned entities ('-') will be ignored during training..\n",
      "  warnings.warn(\n",
      "C:\\Users\\Yoush\\anaconda3\\envs\\Segmentation\\lib\\site-packages\\spacy\\training\\iob_utils.py:141: UserWarning: [W030] Some entities could not be aligned in the text \"You canï¿½t get the American Hamburger in Banglade...\" with entities \"[[27, 36, 'FOOD']]\". Use `spacy.training.offsets_to_biluo_tags(nlp.make_doc(text), entities)` to check the alignment. Misaligned entities ('-') will be ignored during training.\n",
      "  warnings.warn(\n",
      "\" with entities \"[[32, 41, 'FOOD']]\". Use `spacy.training.offsets_to_biluo_tags(nlp.make_doc(text), entities)` to check the alignment. Misaligned entities ('-') will be ignored during training.ve Ice cream.\n",
      "  warnings.warn(\n",
      "C:\\Users\\Yoush\\anaconda3\\envs\\Segmentation\\lib\\site-packages\\spacy\\training\\iob_utils.py:141: UserWarning: [W030] Some entities could not be aligned in the text \"Those items, looking like as rings are ï¿½Nuggetsï...\" with entities \"[[39, 48, 'FOOD']]\". Use `spacy.training.offsets_to_biluo_tags(nlp.make_doc(text), entities)` to check the alignment. Misaligned entities ('-') will be ignored during training.\n",
      "  warnings.warn(\n",
      "\" with entities \"[[28, 38, 'FOOD']]\". Use `spacy.training.offsets_to_biluo_tags(nlp.make_doc(text), entities)` to check the alignment. Misaligned entities ('-') will be ignored during training.our cream.\n",
      "  warnings.warn(\n"
     ]
    },
    {
     "name": "stdout",
     "output_type": "stream",
     "text": [
      "Losses {'ner': 249.37368508890447}\n",
      "Losses {'ner': 40.578790219643366}\n",
      "Losses {'ner': 16.7881610295452}\n",
      "Losses {'ner': 9.611851627226097}\n",
      "Losses {'ner': 0.7715899981363347}\n",
      "Losses {'ner': 4.736784222505499}\n",
      "Losses {'ner': 5.091906007577788}\n",
      "Losses {'ner': 3.609174792004884}\n",
      "Losses {'ner': 3.2558278376261023}\n",
      "Losses {'ner': 0.0030797369177470776}\n"
     ]
    }
   ],
   "source": [
    "with nlp.disable_pipes(*other_pipes) : #Start training by disabling other pipes ['tok2vec', 'tagger', 'parser', 'attribute_ruler', 'lemmatizer'].\n",
    "    \n",
    "    sizes = compounding(1.0, 4.0, 1.001)\n",
    "    epochs = 50 # Epochs\n",
    "\n",
    "    for epoch in range(epochs):\n",
    "        random.shuffle(TRAIN_DATA['annotations']) #Suffle the Train datasets.\n",
    "        batches = minibatch(TRAIN_DATA['annotations'], size=sizes) # Batch up the examples using 'Spacy' minibatch.\n",
    "        losses = {} # Calcultaion loss dictionary.\n",
    "        for batch in batches:\n",
    "            texts, annotations = zip(*batch)\n",
    "            example = []\n",
    "            for i in range(len(texts)):\n",
    "                doc = nlp.make_doc(texts[i])\n",
    "                example.append(Example.from_dict(doc, annotations[i]))\n",
    "            nlp.update(example, sgd=optimizer, drop=0.35, losses=losses) # Update operation do minimize the loss and maximize the accuracy. \n",
    "\n",
    "        if(epoch % 5==0): #Print loss value each 5 epoch later.  \n",
    "            print(\"Losses\", losses) "
   ]
  },
  {
   "cell_type": "code",
   "execution_count": null,
   "id": "ef5f8233",
   "metadata": {},
   "outputs": [],
   "source": []
  },
  {
   "cell_type": "code",
   "execution_count": 12,
   "id": "9470ea49",
   "metadata": {},
   "outputs": [],
   "source": [
    "#Function for test the data.           \n",
    "def food_ner(text):\n",
    "    doc = nlp(text)\n",
    "    for ent in doc.ents:\n",
    "        print(ent.text, \"|\", ent.label_)"
   ]
  },
  {
   "cell_type": "markdown",
   "id": "2f7ff70a",
   "metadata": {},
   "source": [
    "### Test Model"
   ]
  },
  {
   "cell_type": "code",
   "execution_count": 13,
   "id": "339c2bc2",
   "metadata": {},
   "outputs": [
    {
     "name": "stdout",
     "output_type": "stream",
     "text": [
      "chicken curry | FOOD\n",
      "noodles | FOOD\n",
      "Butter Chicken curry | FOOD\n"
     ]
    }
   ],
   "source": [
    "#Text for test\n",
    "test_text = \"\"\"I made a chicken curry and noodles for lunch. Butter Chicken curry was spicy as hell.\"\"\"\n",
    "food_ner(test_text)"
   ]
  },
  {
   "cell_type": "code",
   "execution_count": null,
   "id": "d6797c34",
   "metadata": {},
   "outputs": [],
   "source": []
  }
 ],
 "metadata": {
  "kernelspec": {
   "display_name": "Python 3 (ipykernel)",
   "language": "python",
   "name": "python3"
  },
  "language_info": {
   "codemirror_mode": {
    "name": "ipython",
    "version": 3
   },
   "file_extension": ".py",
   "mimetype": "text/x-python",
   "name": "python",
   "nbconvert_exporter": "python",
   "pygments_lexer": "ipython3",
   "version": "3.9.12"
  }
 },
 "nbformat": 4,
 "nbformat_minor": 5
}
